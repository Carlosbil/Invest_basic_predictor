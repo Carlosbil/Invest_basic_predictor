{
 "cells": [
  {
   "cell_type": "markdown",
   "metadata": {},
   "source": [
    "# Entregable feedback 1\n",
    "## Datos\n",
    "\n",
    "Disclaimer:  a completar con el enunciado y las soluciones\n",
    "\n",
    "Se obtendran de investing.com, se coge los datos(al parecer de Apple ing) accediendo al la bolsa que queremos ver, en general (que esta por defecto de esa  bolsa) >>>> historic data >>>> download data, además se pueden seleccionar los datos\n",
    "Tendremos que coger entre otros los valores:\n",
    "- Open (precio ded entrada)\n",
    "- High-low (precio más bajo y más alto)\n",
    "- Vol (volumen de cotizacion)"
   ]
  },
  {
   "cell_type": "markdown",
   "metadata": {},
   "source": [
    "## Parte 1. \n",
    "\n",
    "a) Habrá que hacer el estudio de:\n",
    "- Coger las primeras filas del dataframe\n",
    "- Coger las ultimas filas del dataframe\n",
    "- el indique que utiliza\n",
    "- Las columnas que tiene el dataframe\n",
    "\n",
    "b) Cree un dataframe basado en el inicial pero solo con los datos de cotizacion cuyo volumen de negocio no supero el 50&"
   ]
  },
  {
   "cell_type": "markdown",
   "metadata": {},
   "source": [
    "## Parte 2\n",
    "a) Usando el mismo dataframe, crear un histograma\n",
    "b) Crear otro histograma con el porcentaje de cambios "
   ]
  },
  {
   "cell_type": "markdown",
   "metadata": {},
   "source": [
    "## Parte 3\n",
    "a) Usando scipy calcular la funcion PDF y CDF de los 4 histogramas que se creó en la parte 2\n",
    "b) Plots de esas 4 funciones en 2 gráficos distintos uno con las 2 PDFs y otro con CDFs"
   ]
  },
  {
   "cell_type": "markdown",
   "metadata": {},
   "source": [
    "## Parte 4\n",
    "a) Hacer un predictor de futuro. De todos los datos de la cotizacion que tenga, considere el primer 80% de ellos de datos de entrenamiento y el 20% ( los más recientes ) de prueba .....\n",
    "\n",
    "b) Calcular el error del modelo utilizado\n",
    "c) Similar al apartado pero con un modelo perteneciente a stackflow??? \n"
   ]
  },
  {
   "cell_type": "markdown",
   "metadata": {},
   "source": [
    "## Formato de entrega \n",
    "a) Nombre del fichero: Fecha en formato AAAAMMDD+iniciales del alumno+Nombre del alumno+2002+python\n",
    "b) Nombre de los documentos"
   ]
  },
  {
   "cell_type": "markdown",
   "metadata": {},
   "source": []
  }
 ],
 "metadata": {
  "language_info": {
   "name": "python"
  }
 },
 "nbformat": 4,
 "nbformat_minor": 2
}
